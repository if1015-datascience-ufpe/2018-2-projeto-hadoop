{
 "cells": [
  {
   "cell_type": "markdown",
   "metadata": {},
   "source": [
    "# Why Violence?"
   ]
  },
  {
   "cell_type": "markdown",
   "metadata": {},
   "source": [
    "Este projeto tem como intuito analisar incidentes com arma de fogo nos estados dos EUA visando entender melhor como tais cenarios influenciam nas camadas sociais existentes, e fatores que potencializem tal problematica."
   ]
  },
  {
   "cell_type": "markdown",
   "metadata": {},
   "source": [
    "## Importação das bibliotecas utilizadas"
   ]
  },
  {
   "cell_type": "code",
   "execution_count": 12,
   "metadata": {},
   "outputs": [],
   "source": [
    "import numpy as np\n",
    "import pandas as pd\n",
    "import matplotlib.pyplot as plt\n",
    "\n",
    "%matplotlib inline"
   ]
  },
  {
   "cell_type": "markdown",
   "metadata": {},
   "source": [
    "## Carregamento dos conjuntos de dados"
   ]
  },
  {
   "cell_type": "code",
   "execution_count": 11,
   "metadata": {},
   "outputs": [],
   "source": [
    "violencia_df = pd.read_csv('./data-sets/gun-violence-data_01-2013_03-2018.csv')\n",
    "leis_df = pd.read_csv('./data-sets/raw_data.csv')\n",
    "censo_df = pd.read_csv('./data-sets/acs2015_county_data.csv')"
   ]
  },
  {
   "cell_type": "markdown",
   "metadata": {},
   "source": [
    "## Pré-processamento"
   ]
  },
  {
   "cell_type": "markdown",
   "metadata": {},
   "source": [
    "### Análise das features"
   ]
  },
  {
   "cell_type": "code",
   "execution_count": 18,
   "metadata": {},
   "outputs": [
    {
     "name": "stdout",
     "output_type": "stream",
     "text": [
      "----------------------------------------------DATASET de Violencia----------------------------------------------\n",
      "\n",
      "        incident_id       n_killed      n_injured  congressional_district  \\\n",
      "count  2.396770e+05  239677.000000  239677.000000           227733.000000   \n",
      "mean   5.593343e+05       0.252290       0.494007                8.001265   \n",
      "std    2.931287e+05       0.521779       0.729952                8.480835   \n",
      "min    9.211400e+04       0.000000       0.000000                0.000000   \n",
      "25%    3.085450e+05       0.000000       0.000000                2.000000   \n",
      "50%    5.435870e+05       0.000000       0.000000                5.000000   \n",
      "75%    8.172280e+05       0.000000       1.000000               10.000000   \n",
      "max    1.083472e+06      50.000000      53.000000               53.000000   \n",
      "\n",
      "            latitude      longitude  n_guns_involved  state_house_district  \\\n",
      "count  231754.000000  231754.000000    140226.000000         200905.000000   \n",
      "mean       37.546598     -89.338348         1.372442             55.447132   \n",
      "std         5.130763      14.359546         4.678202             42.048117   \n",
      "min        19.111400    -171.429000         1.000000              1.000000   \n",
      "25%        33.903400     -94.158725         1.000000             21.000000   \n",
      "50%        38.570600     -86.249600         1.000000             47.000000   \n",
      "75%        41.437375     -80.048625         1.000000             84.000000   \n",
      "max        71.336800      97.433100       400.000000            901.000000   \n",
      "\n",
      "       state_senate_district  \n",
      "count           207342.00000  \n",
      "mean                20.47711  \n",
      "std                 14.20456  \n",
      "min                  1.00000  \n",
      "25%                  9.00000  \n",
      "50%                 19.00000  \n",
      "75%                 30.00000  \n",
      "max                 94.00000  \n",
      "\n",
      "----------------------------------------------DATASET de LEIS----------------------------------------------\n",
      "\n",
      "              year  age18longgunpossess  age18longgunsale  \\\n",
      "count  1350.000000          1350.000000       1350.000000   \n",
      "mean   2004.000000             0.199259          0.342963   \n",
      "std       7.791767             0.399591          0.474875   \n",
      "min    1991.000000             0.000000          0.000000   \n",
      "25%    1997.000000             0.000000          0.000000   \n",
      "50%    2004.000000             0.000000          0.000000   \n",
      "75%    2011.000000             0.000000          1.000000   \n",
      "max    2017.000000             1.000000          1.000000   \n",
      "\n",
      "       age21handgunpossess  age21handgunsale  age21longgunpossess  \\\n",
      "count          1350.000000       1350.000000          1350.000000   \n",
      "mean              0.145185          0.247407             0.014815   \n",
      "std               0.352418          0.431665             0.120856   \n",
      "min               0.000000          0.000000             0.000000   \n",
      "25%               0.000000          0.000000             0.000000   \n",
      "50%               0.000000          0.000000             0.000000   \n",
      "75%               0.000000          0.000000             0.000000   \n",
      "max               1.000000          1.000000             1.000000   \n",
      "\n",
      "       age21longgunsale  age21longgunsaled   alcoholism  alctreatment  \\\n",
      "count       1350.000000        1350.000000  1350.000000   1350.000000   \n",
      "mean           0.017778           0.017778     0.140741      0.097037   \n",
      "std            0.132192           0.132192     0.347883      0.296118   \n",
      "min            0.000000           0.000000     0.000000      0.000000   \n",
      "25%            0.000000           0.000000     0.000000      0.000000   \n",
      "50%            0.000000           0.000000     0.000000      0.000000   \n",
      "75%            0.000000           0.000000     0.000000      0.000000   \n",
      "max            1.000000           1.000000     1.000000      1.000000   \n",
      "\n",
      "          ...         universal   universalh  universalpermit  \\\n",
      "count     ...       1350.000000  1350.000000      1350.000000   \n",
      "mean      ...          0.071111     0.106667         0.140000   \n",
      "std       ...          0.257106     0.308803         0.347116   \n",
      "min       ...          0.000000     0.000000         0.000000   \n",
      "25%       ...          0.000000     0.000000         0.000000   \n",
      "50%       ...          0.000000     0.000000         0.000000   \n",
      "75%       ...          0.000000     0.000000         0.000000   \n",
      "max       ...          1.000000     1.000000         1.000000   \n",
      "\n",
      "       universalpermith      violent     violenth  violentpartial  \\\n",
      "count       1350.000000  1350.000000  1350.000000     1350.000000   \n",
      "mean           0.267407     0.068889     0.074815        0.280741   \n",
      "std            0.442771     0.253359     0.263190        0.449528   \n",
      "min            0.000000     0.000000     0.000000        0.000000   \n",
      "25%            0.000000     0.000000     0.000000        0.000000   \n",
      "50%            0.000000     0.000000     0.000000        0.000000   \n",
      "75%            1.000000     0.000000     0.000000        1.000000   \n",
      "max            1.000000     1.000000     1.000000        1.000000   \n",
      "\n",
      "           waiting     waitingh     lawtotal  \n",
      "count  1350.000000  1350.000000  1350.000000  \n",
      "mean      0.080000     0.189630    23.452593  \n",
      "std       0.271394     0.392153    21.677371  \n",
      "min       0.000000     0.000000     3.000000  \n",
      "25%       0.000000     0.000000    10.000000  \n",
      "50%       0.000000     0.000000    15.000000  \n",
      "75%       0.000000     0.000000    25.000000  \n",
      "max       1.000000     1.000000   106.000000  \n",
      "\n",
      "[8 rows x 135 columns]\n",
      "\n",
      "----------------------------------------------DATASET do Censo----------------------------------------------\n",
      "\n",
      "           CensusId      TotalPop           Men         Women     Hispanic  \\\n",
      "count   3220.000000  3.220000e+03  3.220000e+03  3.220000e+03  3220.000000   \n",
      "mean   31393.605280  9.940935e+04  4.889694e+04  5.051241e+04    11.011522   \n",
      "std    16292.078954  3.193055e+05  1.566813e+05  1.626620e+05    19.241380   \n",
      "min     1001.000000  8.500000e+01  4.200000e+01  4.300000e+01     0.000000   \n",
      "25%    19032.500000  1.121800e+04  5.637250e+03  5.572000e+03     1.900000   \n",
      "50%    30024.000000  2.603500e+04  1.293200e+04  1.305700e+04     3.900000   \n",
      "75%    46105.500000  6.643050e+04  3.299275e+04  3.348750e+04     9.825000   \n",
      "max    72153.000000  1.003839e+07  4.945351e+06  5.093037e+06    99.900000   \n",
      "\n",
      "             White        Black       Native        Asian      Pacific  \\\n",
      "count  3220.000000  3220.000000  3220.000000  3220.000000  3220.000000   \n",
      "mean     75.428789     8.665497     1.723509     1.229068     0.082733   \n",
      "std      22.932890    14.279122     7.253115     2.633079     0.734931   \n",
      "min       0.000000     0.000000     0.000000     0.000000     0.000000   \n",
      "25%      64.100000     0.500000     0.100000     0.200000     0.000000   \n",
      "50%      84.100000     1.900000     0.300000     0.500000     0.000000   \n",
      "75%      93.200000     9.600000     0.600000     1.200000     0.000000   \n",
      "max      99.800000    85.900000    92.100000    41.600000    35.300000   \n",
      "\n",
      "           ...              Walk  OtherTransp   WorkAtHome  MeanCommute  \\\n",
      "count      ...       3220.000000  3220.000000  3220.000000  3220.000000   \n",
      "mean       ...          3.323509     1.612733     4.631770    23.278758   \n",
      "std        ...          3.756096     1.670988     3.178772     5.600466   \n",
      "min        ...          0.000000     0.000000     0.000000     4.900000   \n",
      "25%        ...          1.400000     0.900000     2.700000    19.500000   \n",
      "50%        ...          2.400000     1.300000     3.900000    23.000000   \n",
      "75%        ...          4.000000     1.900000     5.600000    26.800000   \n",
      "max        ...         71.200000    39.100000    37.200000    44.000000   \n",
      "\n",
      "           Employed  PrivateWork   PublicWork  SelfEmployed   FamilyWork  \\\n",
      "count  3.220000e+03  3220.000000  3220.000000   3220.000000  3220.000000   \n",
      "mean   4.559352e+04    74.219348    17.560870      7.931801     0.288106   \n",
      "std    1.496995e+05     7.863188     6.510354      3.914974     0.455137   \n",
      "min    6.200000e+01    25.000000     5.800000      0.000000     0.000000   \n",
      "25%    4.550750e+03    70.500000    13.100000      5.400000     0.100000   \n",
      "50%    1.050800e+04    75.700000    16.200000      6.900000     0.200000   \n",
      "75%    2.863275e+04    79.700000    20.500000      9.400000     0.300000   \n",
      "max    4.635465e+06    88.300000    66.200000     36.600000     9.800000   \n",
      "\n",
      "       Unemployment  \n",
      "count   3220.000000  \n",
      "mean       8.094441  \n",
      "std        4.096114  \n",
      "min        0.000000  \n",
      "25%        5.500000  \n",
      "50%        7.600000  \n",
      "75%        9.900000  \n",
      "max       36.500000  \n",
      "\n",
      "[8 rows x 35 columns]\n"
     ]
    }
   ],
   "source": [
    "print('----------------------------------------------DATASET de Violencia----------------------------------------------\\n')\n",
    "print(violencia_df.describe())\n",
    "print('\\n----------------------------------------------DATASET de LEIS----------------------------------------------\\n')\n",
    "print(leis_df.describe())\n",
    "print('\\n----------------------------------------------DATASET do Censo----------------------------------------------\\n')\n",
    "print(censo_df.describe())"
   ]
  },
  {
   "cell_type": "code",
   "execution_count": 42,
   "metadata": {},
   "outputs": [
    {
     "name": "stdout",
     "output_type": "stream",
     "text": [
      "incident_id                     0.000000\n",
      "date                            0.000000\n",
      "state                           0.000000\n",
      "city_or_county                  0.000000\n",
      "address                         6.883013\n",
      "n_killed                        0.000000\n",
      "n_injured                       0.000000\n",
      "incident_url                    0.000000\n",
      "source_url                      0.195263\n",
      "incident_url_fields_missing     0.000000\n",
      "congressional_district          4.983373\n",
      "gun_stolen                     41.513370\n",
      "gun_type                       41.493760\n",
      "incident_characteristics        0.136016\n",
      "latitude                        3.305699\n",
      "location_description           82.439283\n",
      "longitude                       3.305699\n",
      "n_guns_involved                41.493760\n",
      "notes                          33.802576\n",
      "participant_age                38.509327\n",
      "participant_age_group          17.573234\n",
      "participant_gender             15.171251\n",
      "participant_name               51.007397\n",
      "participant_relationship       93.418643\n",
      "participant_status             11.526346\n",
      "participant_type               10.373544\n",
      "sources                         0.254092\n",
      "state_house_district           16.176771\n",
      "state_senate_district          13.491073\n",
      "dtype: float64\n"
     ]
    }
   ],
   "source": [
    "# Porcentagem de valores nulos em cada label do data set de violencia\n",
    "x = violencia_df.isnull().sum()\n",
    "y = violencia_df.shape[0]\n",
    "result = x / y * 100\n",
    "print(result)"
   ]
  },
  {
   "cell_type": "code",
   "execution_count": null,
   "metadata": {},
   "outputs": [],
   "source": []
  }
 ],
 "metadata": {
  "kernelspec": {
   "display_name": "Python 3",
   "language": "python",
   "name": "python3"
  },
  "language_info": {
   "codemirror_mode": {
    "name": "ipython",
    "version": 3
   },
   "file_extension": ".py",
   "mimetype": "text/x-python",
   "name": "python",
   "nbconvert_exporter": "python",
   "pygments_lexer": "ipython3",
   "version": "3.6.5"
  }
 },
 "nbformat": 4,
 "nbformat_minor": 2
}
